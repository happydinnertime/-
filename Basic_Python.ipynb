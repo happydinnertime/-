{
  "nbformat": 4,
  "nbformat_minor": 0,
  "metadata": {
    "colab": {
      "name": "Basic Python.ipynb",
      "provenance": [],
      "include_colab_link": true
    },
    "kernelspec": {
      "name": "python3",
      "display_name": "Python 3"
    }
  },
  "cells": [
    {
      "cell_type": "markdown",
      "metadata": {
        "id": "view-in-github",
        "colab_type": "text"
      },
      "source": [
        "<a href=\"https://colab.research.google.com/github/happydinnertime/TNFSH-CTF/blob/master/Basic_Python.ipynb\" target=\"_parent\"><img src=\"https://colab.research.google.com/assets/colab-badge.svg\" alt=\"Open In Colab\"/></a>"
      ]
    },
    {
      "cell_type": "code",
      "metadata": {
        "id": "gyz7_eXla3bM",
        "colab_type": "code",
        "outputId": "fa7e4dd1-4dd6-42bc-d022-48acf0b2610f",
        "colab": {
          "base_uri": "https://localhost:8080/",
          "height": 340
        }
      },
      "source": [
        "s = input()\n",
        "print(len(s))\n",
        "print(s[1],s[2:8])\n",
        "for i in s:\n",
        "  print(i)\n",
        "sent = s.split(\" \")\n",
        "print(sent)"
      ],
      "execution_count": 6,
      "outputs": [
        {
          "output_type": "stream",
          "text": [
            "TNFSH in TAINAN\n",
            "15\n",
            "N FSH in\n",
            "T\n",
            "N\n",
            "F\n",
            "S\n",
            "H\n",
            " \n",
            "i\n",
            "n\n",
            " \n",
            "T\n",
            "A\n",
            "I\n",
            "N\n",
            "A\n",
            "N\n",
            "['TNFSH', 'in', 'TAINAN']\n"
          ],
          "name": "stdout"
        }
      ]
    },
    {
      "cell_type": "code",
      "metadata": {
        "id": "RRr7POxpZWZB",
        "colab_type": "code",
        "colab": {
          "base_uri": "https://localhost:8080/",
          "height": 51
        },
        "outputId": "acf443fd-26f7-4c8a-f627-6045087198c2"
      },
      "source": [
        "lst = []\n",
        "for i in range(10):\n",
        "  lst.append(i**2)\n",
        "print(lst)\n",
        "print(lst[5])"
      ],
      "execution_count": 7,
      "outputs": [
        {
          "output_type": "stream",
          "text": [
            "[0, 1, 4, 9, 16, 25, 36, 49, 64, 81]\n",
            "25\n"
          ],
          "name": "stdout"
        }
      ]
    },
    {
      "cell_type": "code",
      "metadata": {
        "id": "gM_LP8BmbVIC",
        "colab_type": "code",
        "colab": {
          "base_uri": "https://localhost:8080/",
          "height": 51
        },
        "outputId": "f182f8fc-6fb5-4d18-ef3f-ace805a20ce7"
      },
      "source": [
        "s = input()\n",
        "dct = {}\n",
        "for i in s.split():\n",
        "  dct[i] = len(i)\n",
        "print(dct)\n",
        "dct['d'] = 10000\n",
        "print(dct)"
      ],
      "execution_count": 8,
      "outputs": [
        {
          "output_type": "stream",
          "text": [
            "aaa bbbb cc d\n",
            "{'aaa': 3, 'bbbb': 4, 'cc': 2, 'd': 1}\n"
          ],
          "name": "stdout"
        }
      ]
    },
    {
      "cell_type": "code",
      "metadata": {
        "id": "uoNkfy1Cche5",
        "colab_type": "code",
        "colab": {}
      },
      "source": [
        ""
      ],
      "execution_count": 0,
      "outputs": []
    }
  ]
}