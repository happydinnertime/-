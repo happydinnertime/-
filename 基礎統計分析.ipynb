{
  "nbformat": 4,
  "nbformat_minor": 0,
  "metadata": {
    "colab": {
      "name": "基礎統計分析.ipynb",
      "provenance": [],
      "include_colab_link": true
    },
    "kernelspec": {
      "name": "python3",
      "display_name": "Python 3"
    }
  },
  "cells": [
    {
      "cell_type": "markdown",
      "metadata": {
        "id": "view-in-github",
        "colab_type": "text"
      },
      "source": [
        "<a href=\"https://colab.research.google.com/github/happydinnertime/TNFSH-CTF/blob/master/%E5%9F%BA%E7%A4%8E%E7%B5%B1%E8%A8%88%E5%88%86%E6%9E%90.ipynb\" target=\"_parent\"><img src=\"https://colab.research.google.com/assets/colab-badge.svg\" alt=\"Open In Colab\"/></a>"
      ]
    },
    {
      "cell_type": "code",
      "metadata": {
        "id": "2kXb5taapQjo",
        "colab_type": "code",
        "colab": {
          "base_uri": "https://localhost:8080/",
          "height": 224
        },
        "outputId": "b5ceb9c2-85c5-42e2-f7ad-bff55f9db919"
      },
      "source": [
        "!wget https://raw.githubusercontent.com/PacktPublishing/Learning-Pandas-Second-Edition/master/data/sp500.csv"
      ],
      "execution_count": 1,
      "outputs": [
        {
          "output_type": "stream",
          "text": [
            "--2019-12-10 02:32:11--  https://raw.githubusercontent.com/PacktPublishing/Learning-Pandas-Second-Edition/master/data/sp500.csv\n",
            "Resolving raw.githubusercontent.com (raw.githubusercontent.com)... 151.101.0.133, 151.101.64.133, 151.101.128.133, ...\n",
            "Connecting to raw.githubusercontent.com (raw.githubusercontent.com)|151.101.0.133|:443... connected.\n",
            "HTTP request sent, awaiting response... 200 OK\n",
            "Length: 83629 (82K) [text/plain]\n",
            "Saving to: ‘sp500.csv’\n",
            "\n",
            "\rsp500.csv             0%[                    ]       0  --.-KB/s               \rsp500.csv           100%[===================>]  81.67K  --.-KB/s    in 0.02s   \n",
            "\n",
            "2019-12-10 02:32:12 (3.27 MB/s) - ‘sp500.csv’ saved [83629/83629]\n",
            "\n"
          ],
          "name": "stdout"
        }
      ]
    },
    {
      "cell_type": "code",
      "metadata": {
        "id": "JEEh3QHXpj_c",
        "colab_type": "code",
        "colab": {
          "base_uri": "https://localhost:8080/",
          "height": 224
        },
        "outputId": "8f368bde-250f-43ee-decf-29b411636301"
      },
      "source": [
        "!wget https://raw.githubusercontent.com/PacktPublishing/Learning-Pandas-Second-Edition/master/data/omh.csv"
      ],
      "execution_count": 2,
      "outputs": [
        {
          "output_type": "stream",
          "text": [
            "--2019-12-10 02:32:28--  https://raw.githubusercontent.com/PacktPublishing/Learning-Pandas-Second-Edition/master/data/omh.csv\n",
            "Resolving raw.githubusercontent.com (raw.githubusercontent.com)... 151.101.0.133, 151.101.64.133, 151.101.128.133, ...\n",
            "Connecting to raw.githubusercontent.com (raw.githubusercontent.com)|151.101.0.133|:443... connected.\n",
            "HTTP request sent, awaiting response... 200 OK\n",
            "Length: 539 [text/plain]\n",
            "Saving to: ‘omh.csv’\n",
            "\n",
            "\romh.csv               0%[                    ]       0  --.-KB/s               \romh.csv             100%[===================>]     539  --.-KB/s    in 0s      \n",
            "\n",
            "2019-12-10 02:32:28 (131 MB/s) - ‘omh.csv’ saved [539/539]\n",
            "\n"
          ],
          "name": "stdout"
        }
      ]
    },
    {
      "cell_type": "code",
      "metadata": {
        "id": "cX6WUUAIppkC",
        "colab_type": "code",
        "colab": {
          "base_uri": "https://localhost:8080/",
          "height": 34
        },
        "outputId": "7a505014-2644-4a37-9b79-44f34eacd9e5"
      },
      "source": [
        "!ls"
      ],
      "execution_count": 3,
      "outputs": [
        {
          "output_type": "stream",
          "text": [
            "omh.csv  sample_data  sp500.csv\n"
          ],
          "name": "stdout"
        }
      ]
    },
    {
      "cell_type": "code",
      "metadata": {
        "id": "y8FCVcG-pvDF",
        "colab_type": "code",
        "colab": {}
      },
      "source": [
        "# -*- coding: utf-8 -*-\n",
        "import numpy as np\n",
        "import pandas as pd\n",
        "\n",
        "# used for dates\n",
        "import datetime\n",
        "from datetime import datetime, date\n",
        "\n",
        "# Set formattign options\n",
        "pd.set_option('display.notebook_repr_html', False)\n",
        "pd.set_option('display.max_columns', 7)\n",
        "pd.set_option('display.max_rows', 10)\n",
        "pd.set_option('display.width', 60)\n",
        "\n",
        "# bring in matplotlib for graphics\n",
        "import matplotlib.pyplot as plt\n",
        "# %matplotlib inline\n",
        "\n",
        "# read in the data and print the first five rows\n",
        "# use the Symbol column as the index, and \n",
        "# only read in columns in positions 0, 2, 3, 7\n",
        "sp500 = pd.read_csv(\"sp500.csv\", \n",
        "                    index_col='Symbol', \n",
        "                    usecols=[0, 2, 3, 7])\n",
        "\n",
        "# one month of stock history data\n",
        "omh = pd.read_csv(\"omh.csv\")"
      ],
      "execution_count": 0,
      "outputs": []
    },
    {
      "cell_type": "code",
      "metadata": {
        "id": "t2DJDrecqxgq",
        "colab_type": "code",
        "colab": {
          "base_uri": "https://localhost:8080/",
          "height": 272
        },
        "outputId": "39a00282-9756-49c9-b192-3c6d16a9197e"
      },
      "source": [
        "sp500"
      ],
      "execution_count": 6,
      "outputs": [
        {
          "output_type": "execute_result",
          "data": {
            "text/plain": [
              "                        Sector   Price  Book Value\n",
              "Symbol                                            \n",
              "MMM                Industrials  141.14      26.668\n",
              "ABT                Health Care   39.60      15.573\n",
              "ABBV               Health Care   53.95       2.954\n",
              "ACN     Information Technology   79.79       8.326\n",
              "ACE                 Financials  102.91      86.897\n",
              "...                        ...     ...         ...\n",
              "YHOO    Information Technology   35.02      12.768\n",
              "YUM     Consumer Discretionary   74.77       5.147\n",
              "ZMH                Health Care  101.84      37.181\n",
              "ZION                Financials   28.43      30.191\n",
              "ZTS                Health Care   30.53       2.150\n",
              "\n",
              "[500 rows x 3 columns]"
            ]
          },
          "metadata": {
            "tags": []
          },
          "execution_count": 6
        }
      ]
    },
    {
      "cell_type": "code",
      "metadata": {
        "id": "VfFkiz0Iq9pz",
        "colab_type": "code",
        "colab": {
          "base_uri": "https://localhost:8080/",
          "height": 255
        },
        "outputId": "e3a1e6ac-6e13-46b8-89c4-b59284889038"
      },
      "source": [
        "omh"
      ],
      "execution_count": 7,
      "outputs": [
        {
          "output_type": "execute_result",
          "data": {
            "text/plain": [
              "          Date   MSFT    AAPL\n",
              "0   2014-12-01  48.62  115.07\n",
              "1   2014-12-02  48.46  114.63\n",
              "2   2014-12-03  48.08  115.93\n",
              "3   2014-12-04  48.84  115.49\n",
              "4   2014-12-05  48.42  115.00\n",
              "..         ...    ...     ...\n",
              "17  2014-12-24  48.14  112.01\n",
              "18  2014-12-26  47.88  113.99\n",
              "19  2014-12-29  47.45  113.91\n",
              "20  2014-12-30  47.02  112.52\n",
              "21  2014-12-31  46.45  110.38\n",
              "\n",
              "[22 rows x 3 columns]"
            ]
          },
          "metadata": {
            "tags": []
          },
          "execution_count": 7
        }
      ]
    },
    {
      "cell_type": "code",
      "metadata": {
        "id": "SHJ64k3KrF3j",
        "colab_type": "code",
        "colab": {
          "base_uri": "https://localhost:8080/",
          "height": 170
        },
        "outputId": "2fa91a6c-7aa7-406b-c27e-e7441bb70391"
      },
      "source": [
        " omh.describe()"
      ],
      "execution_count": 8,
      "outputs": [
        {
          "output_type": "execute_result",
          "data": {
            "text/plain": [
              "            MSFT        AAPL\n",
              "count  22.000000   22.000000\n",
              "mean   47.493182  112.411364\n",
              "std     0.933077    2.388772\n",
              "min    45.160000  106.750000\n",
              "25%    46.967500  111.660000\n",
              "50%    47.625000  112.530000\n",
              "75%    48.125000  114.087500\n",
              "max    48.840000  115.930000"
            ]
          },
          "metadata": {
            "tags": []
          },
          "execution_count": 8
        }
      ]
    },
    {
      "cell_type": "code",
      "metadata": {
        "id": "6Xoxmu1QrUyj",
        "colab_type": "code",
        "colab": {
          "base_uri": "https://localhost:8080/",
          "height": 170
        },
        "outputId": "af847198-d063-4981-fe11-cd57ebb7a91d"
      },
      "source": [
        " omh.MSFT.describe()"
      ],
      "execution_count": 9,
      "outputs": [
        {
          "output_type": "execute_result",
          "data": {
            "text/plain": [
              "count    22.000000\n",
              "mean     47.493182\n",
              "std       0.933077\n",
              "min      45.160000\n",
              "25%      46.967500\n",
              "50%      47.625000\n",
              "75%      48.125000\n",
              "max      48.840000\n",
              "Name: MSFT, dtype: float64"
            ]
          },
          "metadata": {
            "tags": []
          },
          "execution_count": 9
        }
      ]
    },
    {
      "cell_type": "code",
      "metadata": {
        "id": "VPcNIaFwsf4W",
        "colab_type": "code",
        "colab": {
          "base_uri": "https://localhost:8080/",
          "height": 51
        },
        "outputId": "aa4fcebd-60c1-42da-a2c4-f6d4ad67a41b"
      },
      "source": [
        "s = pd.Series([1, 2, 3, 3, 5])\n",
        "s.mode()"
      ],
      "execution_count": 10,
      "outputs": [
        {
          "output_type": "execute_result",
          "data": {
            "text/plain": [
              "0    3\n",
              "dtype: int64"
            ]
          },
          "metadata": {
            "tags": []
          },
          "execution_count": 10
        }
      ]
    },
    {
      "cell_type": "code",
      "metadata": {
        "id": "zeGrlPM9tNKT",
        "colab_type": "code",
        "colab": {
          "base_uri": "https://localhost:8080/",
          "height": 68
        },
        "outputId": "c94a99ba-dcab-4fd5-a199-93e399e08bd0"
      },
      "source": [
        "s = pd.Series([1, 2, 3, 3, 5, 1])\n",
        "s.mode()    #眾數"
      ],
      "execution_count": 11,
      "outputs": [
        {
          "output_type": "execute_result",
          "data": {
            "text/plain": [
              "0    1\n",
              "1    3\n",
              "dtype: int64"
            ]
          },
          "metadata": {
            "tags": []
          },
          "execution_count": 11
        }
      ]
    },
    {
      "cell_type": "code",
      "metadata": {
        "id": "uvcZA3bFtPfy",
        "colab_type": "code",
        "colab": {
          "base_uri": "https://localhost:8080/",
          "height": 68
        },
        "outputId": "2804fbf6-c841-41f6-ccc1-6a7737cba32c"
      },
      "source": [
        "omh.median()"
      ],
      "execution_count": 13,
      "outputs": [
        {
          "output_type": "execute_result",
          "data": {
            "text/plain": [
              "MSFT     47.625\n",
              "AAPL    112.530\n",
              "dtype: float64"
            ]
          },
          "metadata": {
            "tags": []
          },
          "execution_count": 13
        }
      ]
    },
    {
      "cell_type": "markdown",
      "metadata": {
        "id": "-wRdHkyi_dPO",
        "colab_type": "text"
      },
      "source": [
        "# 2019.12.10 作業: \n",
        "```\n",
        "A班同學的資安課程分數如下:60,59,61,62,58,60\n",
        "B班同學的資安課程分數如下:60,54,66,71,49,60\n",
        "計算每班的描述統計\n",
        "```"
      ]
    },
    {
      "cell_type": "code",
      "metadata": {
        "id": "lmujV27Ix3wT",
        "colab_type": "code",
        "colab": {
          "base_uri": "https://localhost:8080/",
          "height": 136
        },
        "outputId": "3b206d83-08ec-45e8-81e3-267d067364fa"
      },
      "source": [
        "A = pd.Series([60,59,61,62,58,60])  #對pandas物件執行算術運算\n",
        "A"
      ],
      "execution_count": 35,
      "outputs": [
        {
          "output_type": "execute_result",
          "data": {
            "text/plain": [
              "0    60\n",
              "1    59\n",
              "2    61\n",
              "3    62\n",
              "4    58\n",
              "5    60\n",
              "dtype: int64"
            ]
          },
          "metadata": {
            "tags": []
          },
          "execution_count": 35
        }
      ]
    },
    {
      "cell_type": "code",
      "metadata": {
        "id": "E0nQojzPzCmk",
        "colab_type": "code",
        "colab": {
          "base_uri": "https://localhost:8080/",
          "height": 170
        },
        "outputId": "29bd7409-efd6-41de-c97d-481edc3ff35f"
      },
      "source": [
        "A.describe()"
      ],
      "execution_count": 36,
      "outputs": [
        {
          "output_type": "execute_result",
          "data": {
            "text/plain": [
              "count     6.000000\n",
              "mean     60.000000\n",
              "std       1.414214\n",
              "min      58.000000\n",
              "25%      59.250000\n",
              "50%      60.000000\n",
              "75%      60.750000\n",
              "max      62.000000\n",
              "dtype: float64"
            ]
          },
          "metadata": {
            "tags": []
          },
          "execution_count": 36
        }
      ]
    },
    {
      "cell_type": "markdown",
      "metadata": {
        "id": "gHJzX5pu6s-h",
        "colab_type": "text"
      },
      "source": [
        "```\n",
        "count => \n",
        "mean => 平均數\n",
        "std => Standasr deviation 標準差\n",
        "min => Minimum\n",
        "var => variance 共變數\n",
        "\n",
        "```"
      ]
    },
    {
      "cell_type": "code",
      "metadata": {
        "id": "W2-dmhqgzSwT",
        "colab_type": "code",
        "colab": {
          "base_uri": "https://localhost:8080/",
          "height": 136
        },
        "outputId": "c520441b-5aa8-482d-b570-51e1487494c1"
      },
      "source": [
        "B = pd.Series([60,54,66,71,49,60])  #對pandas物件執行算術運算\n",
        "B"
      ],
      "execution_count": 37,
      "outputs": [
        {
          "output_type": "execute_result",
          "data": {
            "text/plain": [
              "0    60\n",
              "1    54\n",
              "2    66\n",
              "3    71\n",
              "4    49\n",
              "5    60\n",
              "dtype: int64"
            ]
          },
          "metadata": {
            "tags": []
          },
          "execution_count": 37
        }
      ]
    },
    {
      "cell_type": "code",
      "metadata": {
        "id": "zjMJAVKmzcuT",
        "colab_type": "code",
        "colab": {
          "base_uri": "https://localhost:8080/",
          "height": 170
        },
        "outputId": "d47da853-909d-4834-d8e3-2d8fc3042526"
      },
      "source": [
        "B.describe()"
      ],
      "execution_count": 38,
      "outputs": [
        {
          "output_type": "execute_result",
          "data": {
            "text/plain": [
              "count     6.000000\n",
              "mean     60.000000\n",
              "std       7.924645\n",
              "min      49.000000\n",
              "25%      55.500000\n",
              "50%      60.000000\n",
              "75%      64.500000\n",
              "max      71.000000\n",
              "dtype: float64"
            ]
          },
          "metadata": {
            "tags": []
          },
          "execution_count": 38
        }
      ]
    },
    {
      "cell_type": "code",
      "metadata": {
        "id": "s3e1uzxB_lrS",
        "colab_type": "code",
        "colab": {
          "base_uri": "https://localhost:8080/",
          "height": 34
        },
        "outputId": "783fd8ce-576c-44c9-ec17-0dc53c67dfb7"
      },
      "source": [
        "B.std()  #standard deviation"
      ],
      "execution_count": 54,
      "outputs": [
        {
          "output_type": "execute_result",
          "data": {
            "text/plain": [
              "7.92464510246358"
            ]
          },
          "metadata": {
            "tags": []
          },
          "execution_count": 54
        }
      ]
    },
    {
      "cell_type": "code",
      "metadata": {
        "id": "IkpEgPnN_zo_",
        "colab_type": "code",
        "colab": {
          "base_uri": "https://localhost:8080/",
          "height": 34
        },
        "outputId": "608e89d2-828b-4575-9ff0-2e1c415d3573"
      },
      "source": [
        "B.var()  #variance"
      ],
      "execution_count": 55,
      "outputs": [
        {
          "output_type": "execute_result",
          "data": {
            "text/plain": [
              "62.8"
            ]
          },
          "metadata": {
            "tags": []
          },
          "execution_count": 55
        }
      ]
    },
    {
      "cell_type": "code",
      "metadata": {
        "id": "rAUI-I_vARB4",
        "colab_type": "code",
        "colab": {
          "base_uri": "https://localhost:8080/",
          "height": 34
        },
        "outputId": "974fdee3-83f8-4419-f2ec-3767f9f95e96"
      },
      "source": [
        "# A,B 共變數:\n",
        "A.cov(B)"
      ],
      "execution_count": 56,
      "outputs": [
        {
          "output_type": "execute_result",
          "data": {
            "text/plain": [
              "11.200000000000001"
            ]
          },
          "metadata": {
            "tags": []
          },
          "execution_count": 56
        }
      ]
    },
    {
      "cell_type": "markdown",
      "metadata": {
        "id": "vutVpV0F_OyS",
        "colab_type": "text"
      },
      "source": [
        "```\n",
        "下面是基礎運算測試\n",
        "```"
      ]
    },
    {
      "cell_type": "code",
      "metadata": {
        "id": "sn4GSyHPzhP7",
        "colab_type": "code",
        "colab": {}
      },
      "source": [
        "# set the seed to allow replicatable results\n",
        "np.random.seed(123456)"
      ],
      "execution_count": 0,
      "outputs": []
    },
    {
      "cell_type": "code",
      "metadata": {
        "id": "vrCMEro3zvOa",
        "colab_type": "code",
        "colab": {
          "base_uri": "https://localhost:8080/",
          "height": 119
        },
        "outputId": "aab16c56-51b8-42a9-b43f-e72c14d3a6e6"
      },
      "source": [
        "# create the DataFrame\n",
        "df = pd.DataFrame(np.random.randn(5, 4), \n",
        "                  columns=['A', 'B', 'C', 'D'])\n",
        "df"
      ],
      "execution_count": 42,
      "outputs": [
        {
          "output_type": "execute_result",
          "data": {
            "text/plain": [
              "          A         B         C         D\n",
              "0  0.469112 -0.282863 -1.509059 -1.135632\n",
              "1  1.212112 -0.173215  0.119209 -1.044236\n",
              "2 -0.861849 -2.104569 -0.494929  1.071804\n",
              "3  0.721555 -0.706771 -1.039575  0.271860\n",
              "4 -0.424972  0.567020  0.276232 -1.087401"
            ]
          },
          "metadata": {
            "tags": []
          },
          "execution_count": 42
        }
      ]
    },
    {
      "cell_type": "code",
      "metadata": {
        "id": "904VJagd0iB2",
        "colab_type": "code",
        "colab": {
          "base_uri": "https://localhost:8080/",
          "height": 119
        },
        "outputId": "91304825-413b-4fd3-8c5c-b909a8f52e22"
      },
      "source": [
        "# multiply everything by 2\n",
        "df * 2"
      ],
      "execution_count": 43,
      "outputs": [
        {
          "output_type": "execute_result",
          "data": {
            "text/plain": [
              "          A         B         C         D\n",
              "0  0.938225 -0.565727 -3.018117 -2.271265\n",
              "1  2.424224 -0.346429  0.238417 -2.088472\n",
              "2 -1.723698 -4.209138 -0.989859  2.143608\n",
              "3  1.443110 -1.413542 -2.079150  0.543720\n",
              "4 -0.849945  1.134041  0.552464 -2.174801"
            ]
          },
          "metadata": {
            "tags": []
          },
          "execution_count": 43
        }
      ]
    },
    {
      "cell_type": "code",
      "metadata": {
        "id": "YSmoVCwL0pN8",
        "colab_type": "code",
        "colab": {
          "base_uri": "https://localhost:8080/",
          "height": 102
        },
        "outputId": "96eace14-3377-4732-9207-fbd3edb7ec47"
      },
      "source": [
        "# get first row \n",
        "s = df.iloc[0]\n",
        "s"
      ],
      "execution_count": 46,
      "outputs": [
        {
          "output_type": "execute_result",
          "data": {
            "text/plain": [
              "A    0.469112\n",
              "B   -0.282863\n",
              "C   -1.509059\n",
              "D   -1.135632\n",
              "Name: 0, dtype: float64"
            ]
          },
          "metadata": {
            "tags": []
          },
          "execution_count": 46
        }
      ]
    },
    {
      "cell_type": "code",
      "metadata": {
        "id": "PFSSCWqr0t0y",
        "colab_type": "code",
        "colab": {
          "base_uri": "https://localhost:8080/",
          "height": 119
        },
        "outputId": "e143c551-4cb7-4473-83a4-4e647fa06175"
      },
      "source": [
        "# subtract first row from every row of the DataFrame\n",
        "diff = df - s \n",
        "diff"
      ],
      "execution_count": 49,
      "outputs": [
        {
          "output_type": "execute_result",
          "data": {
            "text/plain": [
              "          A         B         C         D\n",
              "0  0.000000  0.000000  0.000000  0.000000\n",
              "1  0.743000  0.109649  1.628267  0.091396\n",
              "2 -1.330961 -1.821706  1.014129  2.207436\n",
              "3  0.252443 -0.423908  0.469484  1.407492\n",
              "4 -0.894085  0.849884  1.785291  0.048232"
            ]
          },
          "metadata": {
            "tags": []
          },
          "execution_count": 49
        }
      ]
    },
    {
      "cell_type": "code",
      "metadata": {
        "id": "qL-rU1M51JQz",
        "colab_type": "code",
        "colab": {
          "base_uri": "https://localhost:8080/",
          "height": 119
        },
        "outputId": "cdfdeef1-4240-46d6-b0d9-3c93b7020078"
      },
      "source": [
        "# subtract DataFrame from Series\n",
        "diff2 = s - df\n",
        "diff2"
      ],
      "execution_count": 50,
      "outputs": [
        {
          "output_type": "execute_result",
          "data": {
            "text/plain": [
              "          A         B         C         D\n",
              "0  0.000000  0.000000  0.000000  0.000000\n",
              "1 -0.743000 -0.109649 -1.628267 -0.091396\n",
              "2  1.330961  1.821706 -1.014129 -2.207436\n",
              "3 -0.252443  0.423908 -0.469484 -1.407492\n",
              "4  0.894085 -0.849884 -1.785291 -0.048232"
            ]
          },
          "metadata": {
            "tags": []
          },
          "execution_count": 50
        }
      ]
    },
    {
      "cell_type": "code",
      "metadata": {
        "id": "bvAt8SE41X5K",
        "colab_type": "code",
        "colab": {
          "base_uri": "https://localhost:8080/",
          "height": 119
        },
        "outputId": "d973a909-9f0f-4acc-93db-245ec1c2ef9e"
      },
      "source": [
        "# B, C\n",
        "s2 = s[1:3]\n",
        "# add E\n",
        "s2['E'] = 0\n",
        "# see how alignment is applied in math\n",
        "df + s2"
      ],
      "execution_count": 51,
      "outputs": [
        {
          "output_type": "execute_result",
          "data": {
            "text/plain": [
              "    A         B         C   D   E\n",
              "0 NaN -0.565727 -3.018117 NaN NaN\n",
              "1 NaN -0.456078 -1.389850 NaN NaN\n",
              "2 NaN -2.387433 -2.003988 NaN NaN\n",
              "3 NaN -0.989634 -2.548633 NaN NaN\n",
              "4 NaN  0.284157 -1.232826 NaN NaN"
            ]
          },
          "metadata": {
            "tags": []
          },
          "execution_count": 51
        }
      ]
    },
    {
      "cell_type": "code",
      "metadata": {
        "id": "jeVsCHLy46cX",
        "colab_type": "code",
        "colab": {}
      },
      "source": [
        ""
      ],
      "execution_count": 0,
      "outputs": []
    }
  ]
}